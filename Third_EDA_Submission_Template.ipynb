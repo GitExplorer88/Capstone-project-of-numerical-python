{
  "nbformat": 4,
  "nbformat_minor": 0,
  "metadata": {
    "colab": {
      "private_outputs": true,
      "provenance": [],
      "collapsed_sections": [
        "KSlN3yHqYklG",
        "t6dVpIINYklI",
        "ijmpgYnKYklI",
        "-JiQyfWJYklI",
        "EM7whBJCYoAo",
        "fge-S5ZAYoAp",
        "85gYPyotYoAp",
        "RoGjAbkUYoAp",
        "4Of9eVA-YrdM",
        "iky9q4vBYrdO",
        "F6T5p64dYrdO",
        "y-Ehk30pYrdP",
        "bamQiAODYuh1",
        "QHF8YVU7Yuh3",
        "GwzvFGzlYuh3",
        "qYpmQ266Yuh3",
        "OH-pJp9IphqM",
        "bbFf2-_FphqN",
        "_ouA3fa0phqN",
        "Seke61FWphqN",
        "PIIx-8_IphqN",
        "t27r6nlMphqO",
        "r2jJGEOYphqO",
        "b0JNsNcRphqO",
        "BZR9WyysphqO",
        "jj7wYXLtphqO",
        "eZrbJ2SmphqO",
        "rFu4xreNphqO",
        "YJ55k-q6phqO",
        "gCFgpxoyphqP",
        "OVtJsKN_phqQ",
        "lssrdh5qphqQ",
        "U2RJ9gkRphqQ",
        "1M8mcRywphqQ",
        "tgIPom80phqQ",
        "JMzcOPDDphqR",
        "x-EpHcCOp1ci",
        "X_VqEhTip1ck",
        "8zGJKyg5p1ck",
        "PVzmfK_Ep1ck",
        "n3dbpmDWp1ck",
        "ylSl6qgtp1ck",
        "ZWILFDl5p1ck",
        "M7G43BXep1ck",
        "Ag9LCva-p1cl",
        "E6MkPsBcp1cl",
        "2cELzS2fp1cl",
        "3MPXvC8up1cl",
        "NC_X3p0fY2L0",
        "UV0SzAkaZNRQ",
        "YPEH6qLeZNRQ",
        "q29F0dvdveiT",
        "EXh0U9oCveiU",
        "22aHeOlLveiV",
        "JcMwzZxoAimU",
        "8G2x9gOozGDZ",
        "gCX9965dhzqZ",
        "gIfDvo9L0UH2"
      ],
      "include_colab_link": true
    },
    "kernelspec": {
      "name": "python3",
      "display_name": "Python 3"
    },
    "language_info": {
      "name": "python"
    }
  },
  "cells": [
    {
      "cell_type": "markdown",
      "metadata": {
        "id": "view-in-github",
        "colab_type": "text"
      },
      "source": [
        "<a href=\"https://colab.research.google.com/github/GitExplorer88/Capstone-project-of-numerical-python/blob/main/Third_EDA_Submission_Template.ipynb\" target=\"_parent\"><img src=\"https://colab.research.google.com/assets/colab-badge.svg\" alt=\"Open In Colab\"/></a>"
      ]
    },
    {
      "cell_type": "markdown",
      "source": [
        "# **Project Name**    -\n",
        "\n"
      ],
      "metadata": {
        "id": "vncDsAP0Gaoa"
      }
    },
    {
      "cell_type": "markdown",
      "source": [
        "##### **Project Type**    - EDA\n",
        "##### **Contribution**    - Individual\n"
      ],
      "metadata": {
        "id": "beRrZCGUAJYm"
      }
    },
    {
      "cell_type": "markdown",
      "source": [
        "# **Project Summary -**"
      ],
      "metadata": {
        "id": "FJNUwmbgGyua"
      }
    },
    {
      "cell_type": "markdown",
      "source": [
        "Write the summary here within 500-600 words.\n",
        "\n"
      ],
      "metadata": {
        "id": "F6v_1wHtG2nS"
      }
    },
    {
      "cell_type": "markdown",
      "source": [
        "# **GitHub Link -**"
      ],
      "metadata": {
        "id": "w6K7xa23Elo4"
      }
    },
    {
      "cell_type": "markdown",
      "source": [
        "Provide your GitHub Link here.\n",
        "\n",
        "https://github.com/GitExplorer88/Capstone-project-of-numerical-python"
      ],
      "metadata": {
        "id": "h1o69JH3Eqqn"
      }
    },
    {
      "cell_type": "markdown",
      "source": [
        "# **Problem Statement**\n"
      ],
      "metadata": {
        "id": "yQaldy8SH6Dl"
      }
    },
    {
      "cell_type": "markdown",
      "source": [
        "**Write Problem Statement Here.**"
      ],
      "metadata": {
        "id": "DpeJGUA3kjGy"
      }
    },
    {
      "cell_type": "markdown",
      "source": [
        "#### **Define Your Business Objective?**"
      ],
      "metadata": {
        "id": "PH-0ReGfmX4f"
      }
    },
    {
      "cell_type": "markdown",
      "source": [
        "Answer Here."
      ],
      "metadata": {
        "id": "PhDvGCAqmjP1"
      }
    },
    {
      "cell_type": "markdown",
      "source": [
        "# **General Guidelines** : -  "
      ],
      "metadata": {
        "id": "mDgbUHAGgjLW"
      }
    },
    {
      "cell_type": "markdown",
      "source": [
        "1.   Well-structured, formatted, and commented code is required.\n",
        "2.   Exception Handling, Production Grade Code & Deployment Ready Code will be a plus. Those students will be awarded some additional credits.\n",
        "     \n",
        "     The additional credits will have advantages over other students during Star Student selection.\n",
        "       \n",
        "             [ Note: - Deployment Ready Code is defined as, the whole .ipynb notebook should be executable in one go\n",
        "                       without a single error logged. ]\n",
        "\n",
        "3.   Each and every logic should have proper comments.\n",
        "4. You may add as many number of charts you want. Make Sure for each and every chart the following format should be answered.\n",
        "        \n",
        "\n",
        "```\n",
        "# Chart visualization code\n",
        "```\n",
        "            \n",
        "\n",
        "*   Why did you pick the specific chart?\n",
        "*   What is/are the insight(s) found from the chart?\n",
        "* Will the gained insights help creating a positive business impact?\n",
        "Are there any insights that lead to negative growth? Justify with specific reason.\n",
        "\n",
        "5. You have to create at least 20 logical & meaningful charts having important insights.\n",
        "\n",
        "\n",
        "[ Hints : - Do the Vizualization in  a structured way while following \"UBM\" Rule.\n",
        "\n",
        "U - Univariate Analysis,\n",
        "\n",
        "B - Bivariate Analysis (Numerical - Categorical, Numerical - Numerical, Categorical - Categorical)\n",
        "\n",
        "M - Multivariate Analysis\n",
        " ]\n",
        "\n",
        "\n",
        "\n"
      ],
      "metadata": {
        "id": "ZrxVaUj-hHfC"
      }
    },
    {
      "cell_type": "markdown",
      "source": [
        "# ***Let's Begin !***"
      ],
      "metadata": {
        "id": "O_i_v8NEhb9l"
      }
    },
    {
      "cell_type": "markdown",
      "source": [
        "## ***1. Know Your Data***"
      ],
      "metadata": {
        "id": "HhfV-JJviCcP"
      }
    },
    {
      "cell_type": "markdown",
      "source": [
        "### Import Libraries"
      ],
      "metadata": {
        "id": "Y3lxredqlCYt"
      }
    },
    {
      "cell_type": "code",
      "source": [
        "# Import Libraries\n",
        "import numpy as np\n",
        "import pandas as pd\n",
        "import matplotlib.pyplot as plt\n",
        "import seaborn as sns"
      ],
      "metadata": {
        "id": "M8Vqi-pPk-HR"
      },
      "execution_count": null,
      "outputs": []
    },
    {
      "cell_type": "markdown",
      "source": [
        "### Dataset Loading"
      ],
      "metadata": {
        "id": "3RnN4peoiCZX"
      }
    },
    {
      "cell_type": "code",
      "source": [
        "# Load Dataset\n",
        "from google.colab import drive\n",
        "drive.mount('/content/drive/')"
      ],
      "metadata": {
        "id": "4CkvbW_SlZ_R"
      },
      "execution_count": null,
      "outputs": []
    },
    {
      "cell_type": "code",
      "source": [
        "df=pd.read_csv('/content/drive/MyDrive/Hotel Bookings.csv')"
      ],
      "metadata": {
        "id": "1u2vZ1IPfp55"
      },
      "execution_count": null,
      "outputs": []
    },
    {
      "cell_type": "markdown",
      "source": [
        "### Dataset First View"
      ],
      "metadata": {
        "id": "x71ZqKXriCWQ"
      }
    },
    {
      "cell_type": "code",
      "source": [
        "# Dataset First Look\n",
        "df"
      ],
      "metadata": {
        "id": "LWNFOSvLl09H"
      },
      "execution_count": null,
      "outputs": []
    },
    {
      "cell_type": "code",
      "source": [
        "#dataset first 20 rows\n",
        "df.head(20)"
      ],
      "metadata": {
        "id": "7LtqLORGgGnB"
      },
      "execution_count": null,
      "outputs": []
    },
    {
      "cell_type": "code",
      "source": [
        "#dataset last 20 rows\n",
        "df.tail(20)"
      ],
      "metadata": {
        "id": "HYOHRWVCgNXt"
      },
      "execution_count": null,
      "outputs": []
    },
    {
      "cell_type": "markdown",
      "source": [
        "### Dataset Rows & Columns count"
      ],
      "metadata": {
        "id": "7hBIi_osiCS2"
      }
    },
    {
      "cell_type": "code",
      "source": [
        "# Dataset Rows & Columns count\n",
        "#first  counting number of rows\n",
        "no_of_rows=len(df)\n",
        "print('number of rows=',no_of_rows)"
      ],
      "metadata": {
        "id": "Kllu7SJgmLij"
      },
      "execution_count": null,
      "outputs": []
    },
    {
      "cell_type": "code",
      "source": [
        "# count number of columns\n",
        "no_of_columns=df.shape[1]\n",
        "print('number of columns=',no_of_columns)"
      ],
      "metadata": {
        "id": "4sMLayJmqJ4N"
      },
      "execution_count": null,
      "outputs": []
    },
    {
      "cell_type": "markdown",
      "source": [
        "### Dataset Information"
      ],
      "metadata": {
        "id": "JlHwYmJAmNHm"
      }
    },
    {
      "cell_type": "code",
      "source": [
        "# Dataset Info\n",
        "df.info()"
      ],
      "metadata": {
        "id": "e9hRXRi6meOf"
      },
      "execution_count": null,
      "outputs": []
    },
    {
      "cell_type": "markdown",
      "source": [
        "#### Duplicate Values"
      ],
      "metadata": {
        "id": "35m5QtbWiB9F"
      }
    },
    {
      "cell_type": "code",
      "source": [
        "# Dataset Duplicate Value Count\n",
        "#checking how much duplicate values existed in this dataset\n",
        "duplicate_values = df.duplicated()\n",
        "print(duplicate_values)"
      ],
      "metadata": {
        "id": "1sLdpKYkmox0"
      },
      "execution_count": null,
      "outputs": []
    },
    {
      "cell_type": "code",
      "source": [
        "#if duplicate values exist in this dataset\n",
        "#this code will drop them\n",
        "df = df.drop_duplicates(keep='first')\n",
        "df"
      ],
      "metadata": {
        "id": "l8hNfpMss1II"
      },
      "execution_count": null,
      "outputs": []
    },
    {
      "cell_type": "code",
      "source": [
        "#after reducing duplicates number of rows\n",
        "number_of_rows=df.shape[0]\n",
        "print('number of rows=',number_of_rows)"
      ],
      "metadata": {
        "id": "4GcPo2setk_X"
      },
      "execution_count": null,
      "outputs": []
    },
    {
      "cell_type": "markdown",
      "source": [
        "#### Missing Values/Null Values"
      ],
      "metadata": {
        "id": "PoPl-ycgm1ru"
      }
    },
    {
      "cell_type": "code",
      "source": [
        "# Missing Values/Null Values Count\n",
        "no_of_missing_values=df.isnull().sum()\n",
        "print('number of missing values=',no_of_missing_values)"
      ],
      "metadata": {
        "id": "GgHWkxvamxVg"
      },
      "execution_count": null,
      "outputs": []
    },
    {
      "cell_type": "code",
      "source": [
        "# Visualizing the missing values\n",
        "#heatmap is perfectly suited for visualizing mssing values\n",
        "sns.heatmap(df.isnull(),cmap='viridis',cbar=False)\n",
        "plt.title('Missing or Null values heatmap')\n",
        "plt.show()"
      ],
      "metadata": {
        "id": "3q5wnI3om9sJ"
      },
      "execution_count": null,
      "outputs": []
    },
    {
      "cell_type": "code",
      "source": [
        "#checking datatype of children column who have some missing values\n",
        "df['children'].dtype"
      ],
      "metadata": {
        "id": "lZvlpey3zE9z"
      },
      "execution_count": null,
      "outputs": []
    },
    {
      "cell_type": "code",
      "source": [
        "#filling missing values by mode values\n",
        "df.loc[:, 'children'] = df['children'].fillna(df['children'].mode()[0])"
      ],
      "metadata": {
        "id": "PUrQRXLAzTyL"
      },
      "execution_count": null,
      "outputs": []
    },
    {
      "cell_type": "code",
      "source": [
        "df['agent'].dtype"
      ],
      "metadata": {
        "id": "1zks_TM_euz0"
      },
      "execution_count": null,
      "outputs": []
    },
    {
      "cell_type": "code",
      "source": [
        "df.loc[:, 'agent'] = df['agent'].fillna(df['agent'].mode()[0])"
      ],
      "metadata": {
        "id": "ET8W203xe6Ra"
      },
      "execution_count": null,
      "outputs": []
    },
    {
      "cell_type": "code",
      "source": [
        "#country column have 90% null values\n",
        "# so we shouldn't use that is the reason we are not filling that column's missing values"
      ],
      "metadata": {
        "id": "jNcpBEk_e724"
      },
      "execution_count": null,
      "outputs": []
    },
    {
      "cell_type": "markdown",
      "source": [
        "### What did you know about your dataset?"
      ],
      "metadata": {
        "id": "H0kj-8xxnORC"
      }
    },
    {
      "cell_type": "markdown",
      "source": [
        "dataset have highest number of empty values exist in company column and secondry agent column have missing values but except children column out of 32 there is not any other column who have null values which makes this dataset easy for wrangling and output can be near to perfect answer"
      ],
      "metadata": {
        "id": "gfoNAAC-nUe_"
      }
    },
    {
      "cell_type": "markdown",
      "source": [
        "## ***2. Understanding Your Variables***"
      ],
      "metadata": {
        "id": "nA9Y7ga8ng1Z"
      }
    },
    {
      "cell_type": "code",
      "source": [
        "# Dataset Columns\n",
        "df.columns"
      ],
      "metadata": {
        "id": "j7xfkqrt5Ag5"
      },
      "execution_count": null,
      "outputs": []
    },
    {
      "cell_type": "code",
      "source": [
        "# Dataset Describe\n",
        "df.describe()"
      ],
      "metadata": {
        "id": "DnOaZdaE5Q5t"
      },
      "execution_count": null,
      "outputs": []
    },
    {
      "cell_type": "markdown",
      "source": [
        "### Variables Description"
      ],
      "metadata": {
        "id": "PBTbrJXOngz2"
      }
    },
    {
      "cell_type": "markdown",
      "source": [
        "(1) hotel column contains type of hotel and it have 2 types of values exist first one is \"Resort hotel\" and second One is \"city hotel\"(categorical)\n",
        "\n",
        "(2)is_cancelled variable respresnt booking status and contains values in binary form.if booking was cancelled than 1 and if not then 0(categorical)\n",
        "\n",
        "(3)lead_time represent days in numbers(integer format).it contains numbers of days between booking and arrival days(continous)\n",
        "\n",
        "(4)arrival_date_year=year of arrival date(integer format)\n",
        "\n",
        "(5)arrival_date_month=month of arrival date(string format)[categorical]\n",
        "\n",
        "(6)arrival_date_week=weeks in numbers(integer format)[continous]\n",
        "\n",
        "(7)arrival_date_day_of_month=day's number in a month(integer format)[categorical]\n",
        "\n",
        "(8)stays_in_weekend_nights=number of weekend nights(saturday or sunday) the guest stayed or booked to stay at hotel(integer) [continous]\n",
        "\n",
        "(9)stays_in_week_nights=number of week nights(monday to friday) the guest stayed or booked to stay at hotel(integer)[continous]\n",
        "\n",
        "(10)adults=number of adults(integer)[categorical]\n",
        "\n",
        "(11)children= number of childrens(integer)[categorical]\n",
        "\n",
        "(12)babies=number of babies(integer)[categorical]\n",
        "\n",
        "(13)meal=kind of meal opted for (string format)[categorical]\n",
        "\n",
        "(14)country=country code(string format)[categorical]\n",
        "\n",
        "(15)market_segment=which segmant the customer belongs to(string format)[categorical]\n",
        "\n",
        "(16)distribution_channel=how the customer accessed to stay corporate booking(string format)[categorical]\n",
        "\n",
        "(17)is_repeated_guest=guest coming for first time or not(integer)[categorical]\n",
        "\n",
        "(18)previous_cancellations=was there a cancellation before(integer)[categorical]\n",
        "\n",
        "(19)previous_bookings_not_canceled=count of previous bookings(integer format)[countinous]\n",
        "\n",
        "(20)reserved_room_type=type of room reserved(string format)[categorical]\n",
        "\n",
        "(21)assigned_room_type=type of room assigned(string format)[categorical]\n",
        "\n",
        "(22)booking_changes=count of changes made to booking(integer format)[categorical]\n",
        "\n",
        "(23)deposit_type=deposit type(string)[categorical]\n",
        "\n",
        "(24)agent=booked through agent(integer)[countinous]\n",
        "\n",
        "(25)company=booked through company (integer)[categorical]\n",
        "\n",
        "(26) days_in_waiting_list=number of days in waiting list(integer format)[continous]\n",
        "\n",
        "(27)customer_type=type of customer(string format)[categorical]\n",
        "\n",
        "(28)adr(float)[categorical]\n",
        "\n",
        "(29) required_car_parking_spaces=how much car parking required(integer)[categorical]\n",
        "\n",
        "(30)total_of_special_requests=number of additional special requirements(integer)[categorical]\n",
        "\n",
        "(31)reservation_status(string format)[categorical]\n",
        "\n",
        "(32)reservation_status_date=status in specific date[continous]"
      ],
      "metadata": {
        "id": "aJV4KIxSnxay"
      }
    },
    {
      "cell_type": "markdown",
      "source": [
        "\n",
        "### Check Unique Values for each variable."
      ],
      "metadata": {
        "id": "u3PMJOP6ngxN"
      }
    },
    {
      "cell_type": "code",
      "source": [
        "#checking unique values by apply lamda function(lambda function using here unique() function) on each dataset column\n",
        "unique_values = df.apply(lambda x: x.unique())\n",
        "print(unique_values)"
      ],
      "metadata": {
        "id": "AxdRFCt8Xtib"
      },
      "execution_count": null,
      "outputs": []
    },
    {
      "cell_type": "markdown",
      "source": [
        "## 3. ***Data Wrangling***"
      ],
      "metadata": {
        "id": "dauF4eBmngu3"
      }
    },
    {
      "cell_type": "markdown",
      "source": [
        "### Data Wrangling Code"
      ],
      "metadata": {
        "id": "bKJF3rekwFvQ"
      }
    },
    {
      "cell_type": "code",
      "source": [
        "#checking which type of hotel able to attract more customers\n",
        "no_of_bookings=df[df['is_canceled']==0].groupby('hotel')\n",
        "no_of_bookings.size()"
      ],
      "metadata": {
        "id": "wk-9a2fpoLcV"
      },
      "execution_count": null,
      "outputs": []
    },
    {
      "cell_type": "code",
      "source": [
        "#checking which type of hotel is getting more cancels\n",
        "no_of_cancels=df[df['is_canceled']==1].groupby('hotel')\n",
        "no_of_cancels.size()"
      ],
      "metadata": {
        "id": "LLEYT-ISz6m0"
      },
      "execution_count": null,
      "outputs": []
    },
    {
      "cell_type": "code",
      "source": [
        "#which month which type hotel is getting bookings\n",
        "month_wise_bookings=df[df['is_canceled']==0].groupby(['arrival_date_month'])\n",
        "month_wise_bookings.size()"
      ],
      "metadata": {
        "id": "862Jtn3z0N7t"
      },
      "execution_count": null,
      "outputs": []
    },
    {
      "cell_type": "code",
      "source": [
        "# is booking increasing year-wise?\n",
        "incriment=df[df['is_canceled']==0].groupby(['arrival_date_year']).size()\n",
        "incriment"
      ],
      "metadata": {
        "id": "Uz4snoz22233"
      },
      "execution_count": null,
      "outputs": []
    },
    {
      "cell_type": "code",
      "source": [
        "#checking weekend nights and week day nights that who have more bookings\n",
        "weekend=df['stays_in_weekend_nights'].sum()/2 # because saturday and sunday\n",
        "week=df['stays_in_week_nights'].sum()/5 # because monday to friday\n",
        "print('average number of bookings in weekend=',weekend)\n",
        "print('average number of bookings in weeks=',week)"
      ],
      "metadata": {
        "id": "1kxMZZ8b3dBH"
      },
      "execution_count": null,
      "outputs": []
    },
    {
      "cell_type": "code",
      "source": [
        "# which room type had high demand\n",
        "room_type_demand=df.groupby('reserved_room_type').size()\n",
        "room_type_demand"
      ],
      "metadata": {
        "id": "DUKSm0vY5mbC"
      },
      "execution_count": null,
      "outputs": []
    },
    {
      "cell_type": "code",
      "source": [
        "#which room types customers able to get\n",
        "room_type_available=df.groupby('assigned_room_type').size()\n",
        "room_type_available"
      ],
      "metadata": {
        "id": "Q8hZGSoc67-e"
      },
      "execution_count": null,
      "outputs": []
    },
    {
      "cell_type": "code",
      "source": [
        "#which meal customers prefer most in hotel\n",
        "meal_in_demand=df.groupby('meal').size()\n",
        "meal_in_demand"
      ],
      "metadata": {
        "id": "LLCENDOj70Vd"
      },
      "execution_count": null,
      "outputs": []
    },
    {
      "cell_type": "code",
      "source": [
        "# how car parking we need on an average\n",
        "average_no_of_car_parking=df.groupby('required_car_parking_spaces').size()\n",
        "print(average_no_of_car_parking)"
      ],
      "metadata": {
        "id": "8Vxy58yGEETm"
      },
      "execution_count": null,
      "outputs": []
    },
    {
      "cell_type": "code",
      "source": [
        "#how much customers comes second time\n",
        "second_time_customers=df[df['is_repeated_guest']==1].groupby(['hotel','reserved_room_type']).size().unstack(fill_value=0)\n",
        "second_time_customers"
      ],
      "metadata": {
        "id": "n6GcwgmkFDe1"
      },
      "execution_count": null,
      "outputs": []
    },
    {
      "cell_type": "code",
      "source": [
        "# which type of comes maximum\n",
        "types_of_customers=df.groupby('customer_type').size()\n",
        "print(types_of_customers)"
      ],
      "metadata": {
        "id": "vVyqx9smeSkd"
      },
      "execution_count": null,
      "outputs": []
    },
    {
      "cell_type": "code",
      "source": [
        "# which type of comes maximum\n",
        "distribution_channel=df.groupby('distribution_channel').size()\n",
        "print(distribution_channel)"
      ],
      "metadata": {
        "id": "BZ2CIq8sgdVk"
      },
      "execution_count": null,
      "outputs": []
    },
    {
      "cell_type": "markdown",
      "source": [
        "### What all manipulations have you done and insights you found?"
      ],
      "metadata": {
        "id": "MSa1f5Uengrz"
      }
    },
    {
      "cell_type": "markdown",
      "source": [
        "=>City hotels got more bookings as compare to Resort hotel\n",
        "\n",
        "=>In August month people booked highest number of rooms while in January month people have minimum intrust in booking rooms\n",
        "\n",
        "=>in year of 2015 we have 10 thousand around bookings and we increased number of bookings into 31 thousand but in year 2017 we faced drop\n",
        "\n",
        "=> Average number of bookings is higher than average number of bookings happened in weekend\n",
        "\n",
        "=>Room type 'A' have highest demand in customers while Room type 'P' and 'L' people rarely prefered\n",
        "\n",
        "=>Over 56 thousand people reserved room type 'A' but only 46 thousand people able assigned room room type 'A'. so this is clear sign we are lacking to fullfil customers demand\n",
        "\n",
        "=>meal 'BB' have highest demand around customers\n",
        "\n",
        "=>maximum people used only 1 or 2 cars while it is very rare when a customer comes more than 8 cars\n",
        "\n",
        "=>Transient type of customers comes maximum time while Group type of customers quantity is lesser\n",
        "\n",
        "=>Maximum number of customers we got by 'Direct' chennal and in this list second place of got 'TA/TO'"
      ],
      "metadata": {
        "id": "LbyXE7I1olp8"
      }
    },
    {
      "cell_type": "markdown",
      "source": [
        "## ***4. Data Vizualization, Storytelling & Experimenting with charts : Understand the relationships between variables***"
      ],
      "metadata": {
        "id": "GF8Ens_Soomf"
      }
    },
    {
      "cell_type": "markdown",
      "source": [
        "#### Chart - 1"
      ],
      "metadata": {
        "id": "0wOQAZs5pc--"
      }
    },
    {
      "cell_type": "code",
      "source": [
        "#preparing data charts\n",
        "prepared_data=df.groupby(['customer_type','reserved_room_type']).size().reset_index(name='count')\n",
        "prepared_data"
      ],
      "metadata": {
        "id": "7v_ESjsspbW7"
      },
      "execution_count": null,
      "outputs": []
    },
    {
      "cell_type": "code",
      "source": [
        "sns.barplot(data=prepared_data,x='customer_type',y='count',hue='reserved_room_type')\n",
        "plt.title('Room Type Preferences by Customer Type')\n",
        "plt.xlabel('customer type')\n",
        "plt.ylabel('count of room type')\n",
        "plt.show()"
      ],
      "metadata": {
        "id": "cEvuck7PpR8j"
      },
      "execution_count": null,
      "outputs": []
    },
    {
      "cell_type": "markdown",
      "source": [
        "##### 1. Why did you pick the specific chart?"
      ],
      "metadata": {
        "id": "K5QZ13OEpz2H"
      }
    },
    {
      "cell_type": "markdown",
      "source": [
        "Answer -- Room type and customer type both are categorical data and here i want to compare them.i want to see that which type of customer prefer which type of rooms.so camparing two categorical data can perfectly done cluster chart"
      ],
      "metadata": {
        "id": "XESiWehPqBRc"
      }
    },
    {
      "cell_type": "markdown",
      "source": [
        "##### 2. What is/are the insight(s) found from the chart?"
      ],
      "metadata": {
        "id": "lQ7QKXXCp7Bj"
      }
    },
    {
      "cell_type": "markdown",
      "source": [
        "Answer -- All most all type of customers first preference was Room type 'A' while room type 'L' and 'P' were least preferences room"
      ],
      "metadata": {
        "id": "C_j1G7yiqdRP"
      }
    },
    {
      "cell_type": "markdown",
      "source": [],
      "metadata": {
        "id": "IFOI9z29u0R9"
      }
    },
    {
      "cell_type": "markdown",
      "source": [
        "##### 3. Will the gained insights help creating a positive business impact?\n",
        "Are there any insights that lead to negative growth? Justify with specific reason."
      ],
      "metadata": {
        "id": "448CDAPjqfQr"
      }
    },
    {
      "cell_type": "markdown",
      "source": [
        "Answer -- room type 'A' have high demands so we need to create more rooms who have type 'A' so we can fullfill the demands of customers.on the other hand 'L' and 'P' are least popular so we need to down the rate of these rooms and increase rate of room type 'A'"
      ],
      "metadata": {
        "id": "3cspy4FjqxJW"
      }
    },
    {
      "cell_type": "markdown",
      "source": [
        "#### Chart - 2"
      ],
      "metadata": {
        "id": "KSlN3yHqYklG"
      }
    },
    {
      "cell_type": "code",
      "source": [
        "# preparing code for visualization\n",
        "meal_demand=df.groupby(['customer_type','meal']).size().reset_index(name='count')\n",
        "meal_demand"
      ],
      "metadata": {
        "id": "R4YgtaqtYklH"
      },
      "execution_count": null,
      "outputs": []
    },
    {
      "cell_type": "code",
      "source": [
        "meal_pivot=meal_demand.pivot(index='customer_type',columns='meal',values='count')\n",
        "meal_pivot"
      ],
      "metadata": {
        "id": "9wNYDd0w7YcJ"
      },
      "execution_count": null,
      "outputs": []
    },
    {
      "cell_type": "code",
      "source": [
        "plt.figure(figsize=(12,8))\n",
        "sns.heatmap(meal_pivot,annot=True,fmt='d',cmap='YlGnBu')\n",
        "plt.show()"
      ],
      "metadata": {
        "id": "WiwduSB-8LFK"
      },
      "execution_count": null,
      "outputs": []
    },
    {
      "cell_type": "markdown",
      "source": [
        "##### 1. Why did you pick the specific chart?"
      ],
      "metadata": {
        "id": "t6dVpIINYklI"
      }
    },
    {
      "cell_type": "markdown",
      "source": [
        "Answer -- I wanted to show that how different customer types prefer different types of meals,where darker or lower colors indicate higher or lower frequencies and for my purpose heatmap was perfactly suited"
      ],
      "metadata": {
        "id": "5aaW0BYyYklI"
      }
    },
    {
      "cell_type": "markdown",
      "source": [
        "##### 2. What is/are the insight(s) found from the chart?"
      ],
      "metadata": {
        "id": "ijmpgYnKYklI"
      }
    },
    {
      "cell_type": "markdown",
      "source": [
        "Answer -- 'BB' meal have highest demand around all types of customers.while except 'Transient' type of customers, all types of customers  second demand was 'HB' meal.\"Transient\" type customers second preference was \"sc\" meal on the other hand 'undefined' meal type was least demanded around all types of customers"
      ],
      "metadata": {
        "id": "PSx9atu2YklI"
      }
    },
    {
      "cell_type": "markdown",
      "source": [
        "##### 3. Will the gained insights help creating a positive business impact?\n",
        "Are there any insights that lead to negative growth? Justify with specific reason."
      ],
      "metadata": {
        "id": "-JiQyfWJYklI"
      }
    },
    {
      "cell_type": "markdown",
      "source": [
        "Answer -- we should give instructions to Chef that don't do extra preparations for \"undefined\" meal type.and always give exra preferences for \"BB\" type meal and also do good for meal type 'HB' and 'SC'.\n",
        "\n",
        "If chef give importance all types meal equally then he will fail to fullfill customers demand and also create more wastage meal which will tend to loss for hotel"
      ],
      "metadata": {
        "id": "BcBbebzrYklV"
      }
    },
    {
      "cell_type": "markdown",
      "source": [
        "#### Chart - 3"
      ],
      "metadata": {
        "id": "EM7whBJCYoAo"
      }
    },
    {
      "cell_type": "code",
      "source": [
        "#coding for chart\n",
        "reserved_counts=df['reserved_room_type'].value_counts().sort_index()\n",
        "assigned_counts=df['assigned_room_type'].value_counts().sort_index()\n",
        "summary=pd.DataFrame({'Reserved':reserved_counts,'Assigned':assigned_counts}).fillna(0)"
      ],
      "metadata": {
        "id": "t6GMdE67YoAp"
      },
      "execution_count": null,
      "outputs": []
    },
    {
      "cell_type": "code",
      "source": [
        "#creating chart\n",
        "summary.plot(kind='bar',figsize=(10,6))\n",
        "plt.title('comparison of reserved and assigned room')\n",
        "plt.xlabel('room type')\n",
        "plt.ylabel('Count')\n",
        "plt.xticks(rotation=0)\n",
        "plt.legend(title=\"Room type\")\n",
        "plt.show()"
      ],
      "metadata": {
        "id": "6hcFNeroHwj5"
      },
      "execution_count": null,
      "outputs": []
    },
    {
      "cell_type": "markdown",
      "source": [
        "##### 1. Why did you pick the specific chart?"
      ],
      "metadata": {
        "id": "fge-S5ZAYoAp"
      }
    },
    {
      "cell_type": "markdown",
      "source": [
        "Answer -- I want to see that hotels are able fullfill all types of rooms demands. there is need to comparison between all types rooms reserved and all types of rooms assigned.is there any exception exist or not. to fullfill my need i chosed bar chart"
      ],
      "metadata": {
        "id": "5dBItgRVYoAp"
      }
    },
    {
      "cell_type": "markdown",
      "source": [
        "##### 2. What is/are the insight(s) found from the chart?"
      ],
      "metadata": {
        "id": "85gYPyotYoAp"
      }
    },
    {
      "cell_type": "markdown",
      "source": [
        "Answer -- while all types of rooms are aloted extra as compare to there demands here is an exception exist of room type \"A\". hotel are lacking to fullfill demands of room type \"A\"."
      ],
      "metadata": {
        "id": "4jstXR6OYoAp"
      }
    },
    {
      "cell_type": "markdown",
      "source": [
        "##### 3. Will the gained insights help creating a positive business impact?\n",
        "Are there any insights that lead to negative growth? Justify with specific reason."
      ],
      "metadata": {
        "id": "RoGjAbkUYoAp"
      }
    },
    {
      "cell_type": "markdown",
      "source": [
        "Answer -- hotels needs to provide more 'A' type rooms and reduce the quantity of another types rooms.\n",
        "if this not done by any hotel then customers can lose intrust on that hotel"
      ],
      "metadata": {
        "id": "zfJ8IqMcYoAp"
      }
    },
    {
      "cell_type": "markdown",
      "source": [
        "#### Chart - 4"
      ],
      "metadata": {
        "id": "4Of9eVA-YrdM"
      }
    },
    {
      "cell_type": "code",
      "source": [
        "#preparing data for visualization\n",
        "mean_rate=df.groupby('assigned_room_type')['adr'].mean().reset_index()\n",
        "reserved_counts=reserved_counts.reset_index()\n",
        "total_ravenue_of_each_room=df.groupby('assigned_room_type')['adr'].sum().reset_index()"
      ],
      "metadata": {
        "id": "-WLZM-IDBLxQ"
      },
      "execution_count": null,
      "outputs": []
    },
    {
      "cell_type": "code",
      "source": [
        "#ploting the chart\n",
        "fig,axes=plt.subplots(1,3,figsize=(18,6))\n",
        "sns.barplot(x='assigned_room_type',y='adr',data=mean_rate,ax=axes[0],color='red')\n",
        "axes[0].set_title('Average Rates of Room Types')\n",
        "sns.barplot(x='reserved_room_type',y='count',data=reserved_counts,ax=axes[1],color='green')\n",
        "axes[1].set_title('Room Types Demand Around Customers')\n",
        "sns.barplot(x='assigned_room_type',y='adr',data=total_ravenue_of_each_room,ax=axes[2],color='yellow')\n",
        "axes[2].set_title('Total Revenue Generated by Each Room Type')\n",
        "plt.tight_layout()\n",
        "plt.show()"
      ],
      "metadata": {
        "id": "CxbE-DqrIQIZ"
      },
      "execution_count": null,
      "outputs": []
    },
    {
      "cell_type": "markdown",
      "source": [
        "##### 1. Why did you pick the specific chart?"
      ],
      "metadata": {
        "id": "iky9q4vBYrdO"
      }
    },
    {
      "cell_type": "markdown",
      "source": [
        "Answer -- i want to see that room price can effect rooms demand around customers or not.for visualizing it chose 3 different bar charts and combined them"
      ],
      "metadata": {
        "id": "aJRCwT6DYrdO"
      }
    },
    {
      "cell_type": "markdown",
      "source": [
        "##### 2. What is/are the insight(s) found from the chart?"
      ],
      "metadata": {
        "id": "F6T5p64dYrdO"
      }
    },
    {
      "cell_type": "markdown",
      "source": [
        "Answer -- room type \"A\" and \"D\" rate fall in medium rate range as compare to \"G\" and \"H\" room type who have highest rate and \"L\" and \"P\" who have lowest rate. that's customer prefer those rooms who have medium rate."
      ],
      "metadata": {
        "id": "Xx8WAJvtYrdO"
      }
    },
    {
      "cell_type": "markdown",
      "source": [
        "##### 3. Will the gained insights help creating a positive business impact?\n",
        "Are there any insights that lead to negative growth? Justify with specific reason."
      ],
      "metadata": {
        "id": "y-Ehk30pYrdP"
      }
    },
    {
      "cell_type": "markdown",
      "source": [
        "Answer -- This visualization tells us that customers always prefer those room who have medium rates but here room type \"B\" is whose rate almost similar to room type 'A' and lesser than room type 'D' but even this room type 'B' demand is very less. hotels need to improve the services of room type 'B' and need to do extra promotion of room type 'B'."
      ],
      "metadata": {
        "id": "jLNxxz7MYrdP"
      }
    },
    {
      "cell_type": "markdown",
      "source": [
        "#### Chart - 5"
      ],
      "metadata": {
        "id": "bamQiAODYuh1"
      }
    },
    {
      "cell_type": "code",
      "source": [
        "#preparing data for visualization\n",
        "repeated_guests=df['is_repeated_guest'].value_counts(normalize=True)*100\n",
        "repeated_guests=repeated_guests.rename({0:'Not repeated',1:'Repeated'})\n",
        "repeated_guests"
      ],
      "metadata": {
        "id": "LNXDgPRMTPMa"
      },
      "execution_count": null,
      "outputs": []
    },
    {
      "cell_type": "code",
      "source": [
        "#doing visualization\n",
        "plt.pie(repeated_guests,labels=repeated_guests.index,autopct='%1.1f%%')\n",
        "plt.legend()\n",
        "plt.show()"
      ],
      "metadata": {
        "id": "uDzTNYfTVC6W"
      },
      "execution_count": null,
      "outputs": []
    },
    {
      "cell_type": "markdown",
      "source": [
        "##### 1. Why did you pick the specific chart?"
      ],
      "metadata": {
        "id": "QHF8YVU7Yuh3"
      }
    },
    {
      "cell_type": "markdown",
      "source": [
        "Answer -- i want to see that how much percent of customers repeated again. for visualizing the percentenge ,pie chart suited best"
      ],
      "metadata": {
        "id": "dcxuIMRPYuh3"
      }
    },
    {
      "cell_type": "markdown",
      "source": [
        "##### 2. What is/are the insight(s) found from the chart?"
      ],
      "metadata": {
        "id": "GwzvFGzlYuh3"
      }
    },
    {
      "cell_type": "markdown",
      "source": [
        "Answer -- only 4 percent customers repeated."
      ],
      "metadata": {
        "id": "uyqkiB8YYuh3"
      }
    },
    {
      "cell_type": "markdown",
      "source": [
        "##### 3. Will the gained insights help creating a positive business impact?\n",
        "Are there any insights that lead to negative growth? Justify with specific reason."
      ],
      "metadata": {
        "id": "qYpmQ266Yuh3"
      }
    },
    {
      "cell_type": "markdown",
      "source": [
        "Answer -- only 4 % customers repeated that's mean we should improve the services of hotels"
      ],
      "metadata": {
        "id": "_WtzZ_hCYuh4"
      }
    },
    {
      "cell_type": "markdown",
      "source": [
        "#### Chart - 6"
      ],
      "metadata": {
        "id": "OH-pJp9IphqM"
      }
    },
    {
      "cell_type": "code",
      "source": [
        "df[['hotel','is_canceled']]"
      ],
      "metadata": {
        "id": "N5kDeyV2cA-7"
      },
      "execution_count": null,
      "outputs": []
    },
    {
      "cell_type": "code",
      "source": [
        "# Calculate the number of bookings and cancellations for each hotel type\n",
        "hotel_cancellations = df.groupby(['hotel', 'is_canceled']).size().unstack(fill_value=0)\n",
        "hotel_cancellations.columns = ['Not Canceled', 'Canceled']\n",
        "\n",
        "# Calculate cancellation rate\n",
        "hotel_cancellations['Total Bookings'] = hotel_cancellations['Not Canceled'] + hotel_cancellations['Canceled']\n",
        "hotel_cancellations['Cancellation Rate (%)'] = (hotel_cancellations['Canceled'] / hotel_cancellations['Total Bookings']) * 100\n",
        "\n",
        "# Reset index for plotting\n",
        "hotel_cancellations = hotel_cancellations.reset_index()\n",
        "\n",
        "# Visualize using a bar chart\n",
        "plt.figure(figsize=(12, 6))\n",
        "\n",
        "# Bar plot for total bookings\n",
        "sns.barplot(x='hotel', y='Total Bookings', data=hotel_cancellations, color='skyblue', label='Total Bookings')\n",
        "\n",
        "# Bar plot for cancellations\n",
        "sns.barplot(x='hotel', y='Canceled', data=hotel_cancellations, color='lightcoral', label='Canceled')\n",
        "\n",
        "# Adding percentage cancellation rate\n",
        "for index, row in hotel_cancellations.iterrows():\n",
        "    plt.text(index, row['Total Bookings'] + 1, f\"{row['Cancellation Rate (%)']:.1f}%\", color='black', ha=\"center\")\n",
        "\n",
        "plt.title('Hotel Bookings and Cancellations')\n",
        "plt.xlabel('Hotel Type')\n",
        "plt.ylabel('Number of Bookings')\n",
        "plt.legend()\n"
      ],
      "metadata": {
        "id": "4a4pIvxGerit"
      },
      "execution_count": null,
      "outputs": []
    },
    {
      "cell_type": "markdown",
      "source": [
        "##### 1. Why did you pick the specific chart?"
      ],
      "metadata": {
        "id": "bbFf2-_FphqN"
      }
    },
    {
      "cell_type": "markdown",
      "source": [
        "Answer -- I chose a bar chart because it effectively displays the relationship between the type of hotel and the cancellation rate.  the bar chart effectively communicates the relationship between hotel types and cancellation rates in a clear and visually appealing manner."
      ],
      "metadata": {
        "id": "loh7H2nzphqN"
      }
    },
    {
      "cell_type": "markdown",
      "source": [
        "##### 2. What is/are the insight(s) found from the chart?"
      ],
      "metadata": {
        "id": "_ouA3fa0phqN"
      }
    },
    {
      "cell_type": "markdown",
      "source": [
        "Answer -- City hotels got more bookings as compare to resort hotels but around 30% of city hotels bookings got cancelled on the other hand only 23% of resort hotels bookings got cancelled"
      ],
      "metadata": {
        "id": "VECbqPI7phqN"
      }
    },
    {
      "cell_type": "markdown",
      "source": [
        "##### 3. Will the gained insights help creating a positive business impact?\n",
        "Are there any insights that lead to negative growth? Justify with specific reason."
      ],
      "metadata": {
        "id": "Seke61FWphqN"
      }
    },
    {
      "cell_type": "markdown",
      "source": [
        "Answer -- customers comes city hotels first but on the topic of cancel the booking customers rarely cancel resorts bookings. this mean we should give customers incentives and flexible booking options in city hotels and we need to promote resort hotels more."
      ],
      "metadata": {
        "id": "DW4_bGpfphqN"
      }
    },
    {
      "cell_type": "markdown",
      "source": [
        "#### Chart - 7"
      ],
      "metadata": {
        "id": "PIIx-8_IphqN"
      }
    },
    {
      "cell_type": "code",
      "source": [
        "filtered_df=df[df['is_canceled']==0]\n",
        "each_month_booking=filtered_df['arrival_date_month'].value_counts().sort_index()\n",
        "each_month_booking=each_month_booking.reset_index()\n",
        "each_month_booking"
      ],
      "metadata": {
        "id": "lqAIGUfyphqO"
      },
      "execution_count": null,
      "outputs": []
    },
    {
      "cell_type": "code",
      "source": [
        "plt.figure(figsize=(20,5))\n",
        "sns.barplot(x='arrival_date_month',y='count',data=each_month_booking,order=['January','February','March','April','May','June','July','August','September','October','November','December'],color='orange')\n",
        "plt.show()"
      ],
      "metadata": {
        "id": "TLMNSbBlnYVz"
      },
      "execution_count": null,
      "outputs": []
    },
    {
      "cell_type": "markdown",
      "source": [
        "##### 1. Why did you pick the specific chart?"
      ],
      "metadata": {
        "id": "t27r6nlMphqO"
      }
    },
    {
      "cell_type": "markdown",
      "source": [
        "Answer -- i want to see that which month hotels got highest number of customers.to visualize it barplot is the most suitable chart"
      ],
      "metadata": {
        "id": "iv6ro40sphqO"
      }
    },
    {
      "cell_type": "markdown",
      "source": [
        "##### 2. What is/are the insight(s) found from the chart?"
      ],
      "metadata": {
        "id": "r2jJGEOYphqO"
      }
    },
    {
      "cell_type": "markdown",
      "source": [
        "Answer --- maximum customers comes in the Month of August and November to january period customers quantity is lowest."
      ],
      "metadata": {
        "id": "Po6ZPi4hphqO"
      }
    },
    {
      "cell_type": "markdown",
      "source": [
        "##### 3. Will the gained insights help creating a positive business impact?\n",
        "Are there any insights that lead to negative growth? Justify with specific reason."
      ],
      "metadata": {
        "id": "b0JNsNcRphqO"
      }
    },
    {
      "cell_type": "markdown",
      "source": [
        "Answer --- hotels room price should be minimum in period of November to January and in the month of August rooms price can be high"
      ],
      "metadata": {
        "id": "xvSq8iUTphqO"
      }
    },
    {
      "cell_type": "markdown",
      "source": [
        "#### Chart - 8"
      ],
      "metadata": {
        "id": "BZR9WyysphqO"
      }
    },
    {
      "cell_type": "code",
      "source": [
        "distribution_channel=df['distribution_channel'].value_counts().reset_index()\n",
        "distribution_channel"
      ],
      "metadata": {
        "id": "sL3GrSF5tg-0"
      },
      "execution_count": null,
      "outputs": []
    },
    {
      "cell_type": "code",
      "source": [
        "sns.barplot(x='distribution_channel',y='count',data=distribution_channel,color='green')\n",
        "plt.title('distributions participation in customers')\n",
        "plt.show()"
      ],
      "metadata": {
        "id": "DX73-6HiuctV"
      },
      "execution_count": null,
      "outputs": []
    },
    {
      "cell_type": "markdown",
      "source": [
        "##### 1. Why did you pick the specific chart?"
      ],
      "metadata": {
        "id": "jj7wYXLtphqO"
      }
    },
    {
      "cell_type": "markdown",
      "source": [
        "Answer -- i want to which booking type got maximum and minimum customers because x-axis have categorical variable and y-axis have numerical variable so for my barchart suited best\n",
        "\n"
      ],
      "metadata": {
        "id": "Ob8u6rCTphqO"
      }
    },
    {
      "cell_type": "markdown",
      "source": [
        "##### 2. What is/are the insight(s) found from the chart?"
      ],
      "metadata": {
        "id": "eZrbJ2SmphqO"
      }
    },
    {
      "cell_type": "markdown",
      "source": [
        "Answer -- Maximum Guests comes by TA/TO  booking and least number of customers comes by 'undefined' type of booking"
      ],
      "metadata": {
        "id": "mZtgC_hjphqO"
      }
    },
    {
      "cell_type": "markdown",
      "source": [
        "##### 3. Will the gained insights help creating a positive business impact?\n",
        "Are there any insights that lead to negative growth? Justify with specific reason."
      ],
      "metadata": {
        "id": "rFu4xreNphqO"
      }
    },
    {
      "cell_type": "markdown",
      "source": [
        "Answer -- because maximum customers comes by TA/TO type booking and other booking types are not able to compete with TA/TO type booking so we should give incentive and offers in other types of booking and encourage customers to give book room by them"
      ],
      "metadata": {
        "id": "ey_0qi68phqO"
      }
    },
    {
      "cell_type": "markdown",
      "source": [
        "#### Chart - 9"
      ],
      "metadata": {
        "id": "YJ55k-q6phqO"
      }
    },
    {
      "cell_type": "code",
      "source": [
        "#filtering and geting cancelled data\n",
        "cancelled_df=df[df['is_canceled']==1]\n",
        "#fetch Deposit type in cancelled data\n",
        "deposit_type=cancelled_df['deposit_type'].value_counts().reset_index()\n",
        "deposit_type"
      ],
      "metadata": {
        "id": "krrBokGExFOj"
      },
      "execution_count": null,
      "outputs": []
    },
    {
      "cell_type": "code",
      "source": [
        "#visualizing\n",
        "sns.barplot(x='deposit_type',y='count',data=deposit_type)\n",
        "plt.show()"
      ],
      "metadata": {
        "id": "63yHi2VL3TU6"
      },
      "execution_count": null,
      "outputs": []
    },
    {
      "cell_type": "markdown",
      "source": [
        "##### 1. Why did you pick the specific chart?"
      ],
      "metadata": {
        "id": "gCFgpxoyphqP"
      }
    },
    {
      "cell_type": "markdown",
      "source": [
        "Answer -- i want to see that which deposit type getting highest number booking cancellation.here x-axis was categorical y-axis was numerical variable and i want comparison.so for my task bar chart suited best."
      ],
      "metadata": {
        "id": "TVxDimi2phqP"
      }
    },
    {
      "cell_type": "markdown",
      "source": [
        "##### 2. What is/are the insight(s) found from the chart?"
      ],
      "metadata": {
        "id": "OVtJsKN_phqQ"
      }
    },
    {
      "cell_type": "markdown",
      "source": [
        "Answer -- 'No Deposit' deposit type got highest cancelation in bookings. and 'Refundable' booking type got lowest number of bookings"
      ],
      "metadata": {
        "id": "ngGi97qjphqQ"
      }
    },
    {
      "cell_type": "markdown",
      "source": [
        "##### 3. Will the gained insights help creating a positive business impact?\n",
        "Are there any insights that lead to negative growth? Justify with specific reason."
      ],
      "metadata": {
        "id": "lssrdh5qphqQ"
      }
    },
    {
      "cell_type": "markdown",
      "source": [
        "Answer -- 'No Deposit' booking type getting maximum cancelation in booking so we need take some cash from customers in booking process so that number of cancellation in booking can reduce."
      ],
      "metadata": {
        "id": "tBpY5ekJphqQ"
      }
    },
    {
      "cell_type": "markdown",
      "source": [
        "#### Chart - 10"
      ],
      "metadata": {
        "id": "U2RJ9gkRphqQ"
      }
    },
    {
      "cell_type": "code",
      "source": [
        "# Chart - 10 visualization code\n",
        "sns.barplot(df[['stays_in_week_nights','stays_in_weekend_nights']].sum(),color='red')\n",
        "plt.show()"
      ],
      "metadata": {
        "id": "GM7a4YP4phqQ"
      },
      "execution_count": null,
      "outputs": []
    },
    {
      "cell_type": "markdown",
      "source": [
        "##### 1. Why did you pick the specific chart?"
      ],
      "metadata": {
        "id": "1M8mcRywphqQ"
      }
    },
    {
      "cell_type": "markdown",
      "source": [
        "Answer -- i want to compare that which part of week customers comes mostly. so x-axis have categorical string and y- axis have numerical data that's why bar chart suited best for my task"
      ],
      "metadata": {
        "id": "8agQvks0phqQ"
      }
    },
    {
      "cell_type": "markdown",
      "source": [
        "##### 2. What is/are the insight(s) found from the chart?"
      ],
      "metadata": {
        "id": "tgIPom80phqQ"
      }
    },
    {
      "cell_type": "markdown",
      "source": [
        "Answer -- Maximum customers stayed in week nights as compare to weekend nights"
      ],
      "metadata": {
        "id": "Qp13pnNzphqQ"
      }
    },
    {
      "cell_type": "markdown",
      "source": [
        "##### 3. Will the gained insights help creating a positive business impact?\n",
        "Are there any insights that lead to negative growth? Justify with specific reason."
      ],
      "metadata": {
        "id": "JMzcOPDDphqR"
      }
    },
    {
      "cell_type": "markdown",
      "source": [
        "Answer -- hotels should provide customers flexibility in booking weekend nights ,provide more offers to increase the number of bookings in weekend nights"
      ],
      "metadata": {
        "id": "R4Ka1PC2phqR"
      }
    },
    {
      "cell_type": "markdown",
      "source": [
        "#### Chart - 11"
      ],
      "metadata": {
        "id": "x-EpHcCOp1ci"
      }
    },
    {
      "cell_type": "code",
      "source": [
        "#preparing data for visualization\n",
        "car_parking=df['required_car_parking_spaces'].value_counts().reset_index()\n",
        "#visualizing it\n",
        "sns.scatterplot(x='required_car_parking_spaces',y='count',data=car_parking)\n",
        "plt.show()"
      ],
      "metadata": {
        "id": "-ubEm7Ab-SLm"
      },
      "execution_count": null,
      "outputs": []
    },
    {
      "cell_type": "markdown",
      "source": [
        "##### 1. Why did you pick the specific chart?"
      ],
      "metadata": {
        "id": "X_VqEhTip1ck"
      }
    },
    {
      "cell_type": "markdown",
      "source": [
        "Answer -- i want to see that how much number of customers how much car parking spaces wanted.because x-axis and y-axis both will contain numerical variable then scatter chart suited best for my task"
      ],
      "metadata": {
        "id": "-vsMzt_np1ck"
      }
    },
    {
      "cell_type": "markdown",
      "source": [
        "##### 2. What is/are the insight(s) found from the chart?"
      ],
      "metadata": {
        "id": "8zGJKyg5p1ck"
      }
    },
    {
      "cell_type": "markdown",
      "source": [
        "Answer -- maximum customers don't need car parking spaces and if they need maximum of them have need less then 5 car parking spaces."
      ],
      "metadata": {
        "id": "ZYdMsrqVp1ck"
      }
    },
    {
      "cell_type": "markdown",
      "source": [
        "##### 3. Will the gained insights help creating a positive business impact?\n",
        "Are there any insights that lead to negative growth? Justify with specific reason."
      ],
      "metadata": {
        "id": "PVzmfK_Ep1ck"
      }
    },
    {
      "cell_type": "markdown",
      "source": [
        "Answer -- hotels should not invest high number of money for creating car parking spaces. some amount of area enough for car parking because maximum customers didn't used car"
      ],
      "metadata": {
        "id": "druuKYZpp1ck"
      }
    },
    {
      "cell_type": "markdown",
      "source": [
        "#### Chart - 12"
      ],
      "metadata": {
        "id": "n3dbpmDWp1ck"
      }
    },
    {
      "cell_type": "code",
      "source": [
        "df.columns"
      ],
      "metadata": {
        "id": "h1U1A-nSivPn"
      },
      "execution_count": null,
      "outputs": []
    },
    {
      "cell_type": "code",
      "source": [
        "# preparing data for visualization\n",
        "value_counts=df['reservation_status'].value_counts()\n",
        "percentages=value_counts/value_counts.sum() * 100\n",
        "#doing visualization\n",
        "plt.pie(percentages,labels=percentages.index,autopct='%1.1f%%',startangle=140)\n",
        "plt.title('Reservation Status Distribution')\n",
        "plt.axis('equal')\n",
        "plt.show()"
      ],
      "metadata": {
        "id": "bwevp1tKp1ck"
      },
      "execution_count": null,
      "outputs": []
    },
    {
      "cell_type": "markdown",
      "source": [
        "##### 1. Why did you pick the specific chart?"
      ],
      "metadata": {
        "id": "ylSl6qgtp1ck"
      }
    },
    {
      "cell_type": "markdown",
      "source": [
        "Answer -- i want to that how much percent of booking cancelled and how much of getting checkout.for visualizing percentage kind of thing pie chart suited best."
      ],
      "metadata": {
        "id": "m2xqNkiQp1ck"
      }
    },
    {
      "cell_type": "markdown",
      "source": [
        "##### 2. What is/are the insight(s) found from the chart?"
      ],
      "metadata": {
        "id": "ZWILFDl5p1ck"
      }
    },
    {
      "cell_type": "markdown",
      "source": [
        "Answer -- 26% of bookings got cancelled and 72% bookings got checkout"
      ],
      "metadata": {
        "id": "x-lUsV2mp1ck"
      }
    },
    {
      "cell_type": "markdown",
      "source": [
        "##### 3. Will the gained insights help creating a positive business impact?\n",
        "Are there any insights that lead to negative growth? Justify with specific reason."
      ],
      "metadata": {
        "id": "M7G43BXep1ck"
      }
    },
    {
      "cell_type": "markdown",
      "source": [
        "Answer -- High Checkout Rate: A 72% checkout rate indicates that a majority of bookings are successfully completed. This is a positive sign as it suggests that most customers are following through with their reservations, which likely translates to steady revenue.\n",
        "Cancellation Rate: A 26% cancellation rate is significant and highlights an area that needs attention.\n",
        ".A 26% cancellation rate means that over a quarter of potential revenue is being lost due to cancellations. This can have a substantial negative impact on financial performance if not mitigated."
      ],
      "metadata": {
        "id": "5wwDJXsLp1cl"
      }
    },
    {
      "cell_type": "markdown",
      "source": [
        "#### Chart - 13 - Correlation Heatmap"
      ],
      "metadata": {
        "id": "NC_X3p0fY2L0"
      }
    },
    {
      "cell_type": "code",
      "source": [
        "df = df.drop(columns=['reservation_status_date'])\n",
        "\n",
        "# Convert categorical variables to numerical (using one-hot encoding where appropriate)\n",
        "df_encoded = pd.get_dummies(df, columns=[\n",
        "    'hotel', 'arrival_date_month', 'meal', 'country', 'market_segment',\n",
        "    'distribution_channel', 'reserved_room_type', 'assigned_room_type',\n",
        "    'deposit_type', 'customer_type', 'reservation_status'\n",
        "], drop_first=True)\n",
        "\n",
        "# Calculate the correlation matrix\n",
        "correlation_matrix = df_encoded.corr()\n",
        "\n",
        "# Focus on the correlation with 'is_canceled'\n",
        "correlation_with_cancellation = correlation_matrix['is_canceled'].sort_values(ascending=False)\n",
        "\n",
        "print(\"Correlation with 'is_canceled':\")\n",
        "print(correlation_with_cancellation)\n",
        "\n",
        "# Visualize the correlation matrix using a heatmap\n",
        "plt.figure(figsize=(16, 12))\n",
        "sns.heatmap(correlation_matrix, annot=False, cmap='coolwarm', cbar_kws={'label': 'Correlation Coefficient'})\n",
        "plt.title('Correlation Matrix of Hotel Dataset')\n",
        "plt.show()"
      ],
      "metadata": {
        "id": "xyC9zolEZNRQ"
      },
      "execution_count": null,
      "outputs": []
    },
    {
      "cell_type": "markdown",
      "source": [
        "##### 1. Why did you pick the specific chart?"
      ],
      "metadata": {
        "id": "UV0SzAkaZNRQ"
      }
    },
    {
      "cell_type": "markdown",
      "source": [
        "Answer -- I chose a heatmap because it effectively visualizes the correlations between all features in the dataset, making it easy to identify which variables have the strongest relationships with cancellations and each other at a glance. This comprehensive overview helps in pinpointing areas that may require further investigation or targeted action."
      ],
      "metadata": {
        "id": "DVPuT8LYZNRQ"
      }
    },
    {
      "cell_type": "markdown",
      "source": [
        "##### 2. What is/are the insight(s) found from the chart?"
      ],
      "metadata": {
        "id": "YPEH6qLeZNRQ"
      }
    },
    {
      "cell_type": "markdown",
      "source": [
        "Answer -- The heatmap reveals that lead time and certain market segments have strong positive correlations with cancellations, indicating that longer booking times and specific booking channels are associated with higher cancellation rates. This insight can guide strategies to reduce cancellations by targeting these key factors."
      ],
      "metadata": {
        "id": "bfSqtnDqZNRR"
      }
    },
    {
      "cell_type": "markdown",
      "source": [
        "#### Chart - 14 - Pair Plot"
      ],
      "metadata": {
        "id": "q29F0dvdveiT"
      }
    },
    {
      "cell_type": "code",
      "source": [
        "# Pair Plot visualization code\n",
        "selected_features = [\n",
        "    'lead_time', 'stays_in_weekend_nights', 'stays_in_week_nights',\n",
        "    'adults', 'children', 'babies', 'adr', 'is_canceled'\n",
        "]\n",
        "\n",
        "# Created the pair plot\n",
        "sns.pairplot(df[selected_features], hue='is_canceled', diag_kind='kde', palette='coolwarm')\n",
        "\n",
        "# Displaying the plot\n",
        "plt.suptitle('Pair Plot of Selected Features and Cancellations', y=1.02)\n",
        "plt.show()"
      ],
      "metadata": {
        "id": "o58-TEIhveiU"
      },
      "execution_count": null,
      "outputs": []
    },
    {
      "cell_type": "markdown",
      "source": [
        "##### 1. Why did you pick the specific chart?"
      ],
      "metadata": {
        "id": "EXh0U9oCveiU"
      }
    },
    {
      "cell_type": "markdown",
      "source": [
        "Answer -- I selected the pair plot because it provides a comprehensive visual representation of the relationships between multiple features, including their distributions and how they interact with the cancellation status. This allows for the identification of potential patterns and correlations that may not be immediately evident from a single-variable analysis."
      ],
      "metadata": {
        "id": "eMmPjTByveiU"
      }
    },
    {
      "cell_type": "markdown",
      "source": [
        "##### 2. What is/are the insight(s) found from the chart?"
      ],
      "metadata": {
        "id": "22aHeOlLveiV"
      }
    },
    {
      "cell_type": "markdown",
      "source": [
        "Answer --- The pair plot reveals that longer lead times and higher ADR (average daily rate) are associated with higher cancellation rates. Additionally, it shows distinct clusters for bookings with and without children, suggesting family bookings might have different cancellation behaviors. These insights can help in tailoring strategies to reduce cancellations by addressing these specific factors."
      ],
      "metadata": {
        "id": "uPQ8RGwHveiV"
      }
    },
    {
      "cell_type": "markdown",
      "source": [
        "## **5. Solution to Business Objective**"
      ],
      "metadata": {
        "id": "JcMwzZxoAimU"
      }
    },
    {
      "cell_type": "markdown",
      "source": [
        "#### What do you suggest the client to achieve Business Objective ?\n",
        "Explain Briefly."
      ],
      "metadata": {
        "id": "8G2x9gOozGDZ"
      }
    },
    {
      "cell_type": "markdown",
      "source": [
        "Answer Here."
      ],
      "metadata": {
        "id": "pASKb0qOza21"
      }
    },
    {
      "cell_type": "markdown",
      "source": [
        "# **Conclusion**"
      ],
      "metadata": {
        "id": "gCX9965dhzqZ"
      }
    },
    {
      "cell_type": "markdown",
      "source": [
        "Write the conclusion here."
      ],
      "metadata": {
        "id": "Fjb1IsQkh3yE"
      }
    },
    {
      "cell_type": "markdown",
      "source": [
        "### ***Hurrah! You have successfully completed your EDA Capstone Project !!!***"
      ],
      "metadata": {
        "id": "gIfDvo9L0UH2"
      }
    }
  ]
}